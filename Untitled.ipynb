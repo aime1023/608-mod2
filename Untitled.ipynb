{
 "cells": [
  {
   "cell_type": "code",
   "execution_count": 4,
   "id": "2ffcf895-8c83-4d0b-b5f9-1f3b3cbf74df",
   "metadata": {},
   "outputs": [
    {
     "data": {
      "text/plain": [
       "607"
      ]
     },
     "execution_count": 4,
     "metadata": {},
     "output_type": "execute_result"
    }
   ],
   "source": [
    "import random\n",
    "import statistics\n",
    "\n",
    "numrand = []\n",
    "for i in range(0,100):\n",
    "    num = random.randint(1,1000)\n",
    "    numrand.append(num)\n",
    "\n",
    "len(numrand)\n",
    "sum(numrand)\n",
    "statistics.mean(numrand)\n",
    "statistics.median(numrand)\n",
    "statistics.mode(numrand)"
   ]
  },
  {
   "cell_type": "code",
   "execution_count": null,
   "id": "45867a82-c072-49e4-aee9-d77a7a36c83a",
   "metadata": {},
   "outputs": [],
   "source": []
  }
 ],
 "metadata": {
  "kernelspec": {
   "display_name": "Python 3 (ipykernel)",
   "language": "python",
   "name": "python3"
  },
  "language_info": {
   "codemirror_mode": {
    "name": "ipython",
    "version": 3
   },
   "file_extension": ".py",
   "mimetype": "text/x-python",
   "name": "python",
   "nbconvert_exporter": "python",
   "pygments_lexer": "ipython3",
   "version": "3.9.7"
  }
 },
 "nbformat": 4,
 "nbformat_minor": 5
}
